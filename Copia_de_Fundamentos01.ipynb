{
  "nbformat": 4,
  "nbformat_minor": 0,
  "metadata": {
    "colab": {
      "name": "Copia de Fundamentos01.ipynb",
      "provenance": [],
      "collapsed_sections": [],
      "authorship_tag": "ABX9TyOWiBO7EoMu6aBfU3jZzwZp",
      "include_colab_link": true
    },
    "kernelspec": {
      "name": "python3",
      "display_name": "Python 3"
    },
    "language_info": {
      "name": "python"
    }
  },
  "cells": [
    {
      "cell_type": "markdown",
      "metadata": {
        "id": "view-in-github",
        "colab_type": "text"
      },
      "source": [
        "<a href=\"https://colab.research.google.com/github/YessicaPaola/PYTHON2/blob/main/Copia_de_Fundamentos01.ipynb\" target=\"_parent\"><img src=\"https://colab.research.google.com/assets/colab-badge.svg\" alt=\"Open In Colab\"/></a>"
      ]
    },
    {
      "cell_type": "markdown",
      "source": [
        "fundamentos de programacion-python"
      ],
      "metadata": {
        "id": "jHEDXffTXcai"
      }
    },
    {
      "cell_type": "code",
      "execution_count": null,
      "metadata": {
        "colab": {
          "base_uri": "https://localhost:8080/"
        },
        "id": "I1M903slLDtM",
        "outputId": "d64c813b-4d37-4b8e-d34e-03e1bab4f625"
      },
      "outputs": [
        {
          "output_type": "stream",
          "name": "stdout",
          "text": [
            "querido profesor, el resultado es:  57\n"
          ]
        }
      ],
      "source": [
        "x = 15\n",
        "y = 42\n",
        "z = (x+y)\n",
        "\n",
        "print(\"querido profesor, el resultado es: \",z)"
      ]
    },
    {
      "cell_type": "markdown",
      "source": [
        "comentarios:"
      ],
      "metadata": {
        "id": "kNCU1nxPZ9m4"
      }
    },
    {
      "cell_type": "code",
      "source": [
        "#comentarios con una sola linea de codigo \n",
        "\n",
        "\"\"\"esto es un comentarios\n",
        "de varias lineas\n",
        "de codigo para que\n",
        "no se nos olvide\n",
        "que estamos haciendo\"\"\""
      ],
      "metadata": {
        "id": "6MDEuOKDaDGY"
      },
      "execution_count": null,
      "outputs": []
    },
    {
      "cell_type": "markdown",
      "source": [
        "palabra reservada print()"
      ],
      "metadata": {
        "id": "AynBtaqzbf43"
      }
    },
    {
      "cell_type": "code",
      "source": [
        "#imprimir en pantalla\n",
        "\n",
        "print(\"este es nuestro primer programa en\")\n",
        "print('**********PYTHON***********')"
      ],
      "metadata": {
        "colab": {
          "base_uri": "https://localhost:8080/"
        },
        "id": "Mo-3qIylblBW",
        "outputId": "a1f2fecd-0b07-4f65-cf28-332c615b5e8b"
      },
      "execution_count": null,
      "outputs": [
        {
          "output_type": "stream",
          "name": "stdout",
          "text": [
            "este es nuestro primer programa en\n",
            "**********PYTHON***********\n"
          ]
        }
      ]
    },
    {
      "cell_type": "markdown",
      "source": [
        "Tipos de datos"
      ],
      "metadata": {
        "id": "9ld6J2MXdVwl"
      }
    },
    {
      "cell_type": "code",
      "source": [
        "x = 15   #entero = int\n",
        "y = 42.5   #flotante = float\n",
        "a = \"El resultado es: \" #string = str\n",
        "z = (x+y)\n",
        "\n",
        "print(a,z)\n",
        "print(\"*********palabra reservada type()**********\")\n",
        "print(\"tipo de dato x\", x, \":\", type(x))\n",
        "print(\"tipo de dato y\", y, \":\", type(y))\n",
        "print(\"tipo de dato a\", a, \":\", type(a))\n",
        "print(\"tipo de dato z\", z, \":\", type(z))\n",
        "print(\"*********Mas facilito**********\")\n",
        "print(f\"Tipo de dato x {x} : {type(x)}\")\n",
        "print(f\"Tipo de dato y {y} : {type(y)}\")\n",
        "print(f\"Tipo de dato a {a} : {type(a)}\")\n",
        "print(f\"Tipo de dato z {z} : {type(z)}\")\n",
        "\n",
        "#tipo de datos cadena de caracteres - string\n",
        "\n",
        "nom_aprendiz = \"Yessica \"\n",
        "ape_aprendiz = \"Cristancho \"\n",
        "correo_electronico = \"ypcristancho3@misena.edu.co\"\n",
        "print(f\"El aprendiz se llama {nom_aprendiz}{ape_aprendiz} y su email es {correo_electronico}\")\n",
        "\n",
        "#Tipo de datos booleanos\n",
        "\n",
        "estado = True\n",
        "estado_falso = False\n",
        "print(f\"Tipo de dato estado {estado} : {type(estado)}\")\n",
        "print(f\"Tipo de dato estado_falso {estado_falso} : {type(estado_falso)}\")"
      ],
      "metadata": {
        "colab": {
          "base_uri": "https://localhost:8080/"
        },
        "id": "O74YiHGsdf4e",
        "outputId": "adcbbd12-813e-490a-a79e-133114a85524"
      },
      "execution_count": null,
      "outputs": [
        {
          "output_type": "stream",
          "name": "stdout",
          "text": [
            "El resultado es:  57.5\n",
            "*********palabra reservada type()**********\n",
            "tipo de dato x 15 : <class 'int'>\n",
            "tipo de dato y 42.5 : <class 'float'>\n",
            "tipo de dato a El resultado es:  : <class 'str'>\n",
            "tipo de dato z 57.5 : <class 'float'>\n",
            "*********Mas facilito**********\n",
            "Tipo de dato x 15 : <class 'int'>\n",
            "Tipo de dato y 42.5 : <class 'float'>\n",
            "Tipo de dato a El resultado es:  : <class 'str'>\n",
            "Tipo de dato z 57.5 : <class 'float'>\n",
            "El aprendiz se llama Yessica Cristancho  y su email es ypcristancho3@misena.edu.co\n",
            "Tipo de dato estado True : <class 'bool'>\n",
            "Tipo de dato estado_falso False : <class 'bool'>\n"
          ]
        }
      ]
    },
    {
      "cell_type": "markdown",
      "source": [
        "sueldoOperarioBasico"
      ],
      "metadata": {
        "id": "9sGl-I_cmdmd"
      }
    },
    {
      "cell_type": "code",
      "source": [
        "# palabra reservada input()\n",
        "# int() o float() cuando capturemos un dato por teclado y se requieran hacer operaciones aritmeticas\n",
        "\n",
        "#entrada de datos\n",
        "sueldo = float(input(\"Registre el valor de la hora de operario: \"))\n",
        "horas_trab = int(input(\"Registre las horas trabajadas: \"))\n",
        "\n",
        "#operaciones \n",
        "sueldoMen = (sueldo * horas_trab)\n",
        "\n",
        "#salida\n",
        "print(f\"El valor hora: {sueldo} * {horas_trab} horas trabajadas: {sueldoMen} \")"
      ],
      "metadata": {
        "id": "lMtzgNw8mqwl",
        "outputId": "92d01b9b-4b8d-4647-a565-38f9c4242477",
        "colab": {
          "base_uri": "https://localhost:8080/"
        }
      },
      "execution_count": null,
      "outputs": [
        {
          "output_type": "stream",
          "name": "stdout",
          "text": [
            "Registre el valor de la hora de operario: 25000\n",
            "Registre las horas trabajadas: 160\n",
            "El valor hora: 25000.0 * 160 horas trabajadas: 4000000.0 \n"
          ]
        }
      ]
    }
  ]
}