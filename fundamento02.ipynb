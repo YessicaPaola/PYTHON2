{
  "nbformat": 4,
  "nbformat_minor": 0,
  "metadata": {
    "colab": {
      "name": "fundamento02.ipynb",
      "provenance": [],
      "collapsed_sections": [],
      "authorship_tag": "ABX9TyMXICgvBx8F36vulbkwtR0w",
      "include_colab_link": true
    },
    "kernelspec": {
      "name": "python3",
      "display_name": "Python 3"
    },
    "language_info": {
      "name": "python"
    }
  },
  "cells": [
    {
      "cell_type": "markdown",
      "metadata": {
        "id": "view-in-github",
        "colab_type": "text"
      },
      "source": [
        "<a href=\"https://colab.research.google.com/github/YessicaPaola/PYTHON2/blob/main/fundamento02.ipynb\" target=\"_parent\"><img src=\"https://colab.research.google.com/assets/colab-badge.svg\" alt=\"Open In Colab\"/></a>"
      ]
    },
    {
      "cell_type": "markdown",
      "source": [
        "realizar la carga del lado de un cuadrado, mostrar en pantalla el perimetro del mismo (el perimetro de u n cuadrado se calcula multiplicando el valor del lado por cuatro)."
      ],
      "metadata": {
        "id": "5B3kbc34a7zb"
      }
    },
    {
      "cell_type": "code",
      "source": [
        "lado=int(input(\"ingrese el lado del cuadrado: \"))\n",
        "perimetro=lado*4\n",
        "print(\"el perimetro del cuadrado es: \")\n",
        "print(perimetro)"
      ],
      "metadata": {
        "colab": {
          "base_uri": "https://localhost:8080/"
        },
        "id": "qY-3FCTgaLB-",
        "outputId": "a81f6618-fb15-4578-e6bf-dd787db24c2c"
      },
      "execution_count": null,
      "outputs": [
        {
          "output_type": "stream",
          "name": "stdout",
          "text": [
            "ingrese el lado del cuadrado: 3\n",
            "el perimetro del cuadrado es: \n",
            "12\n"
          ]
        }
      ]
    },
    {
      "cell_type": "code",
      "source": [
        "\"\"\"ingrese cuatro numeros, \n",
        "calcular e informar la suma de los dos primeros\n",
        "y producto del tercero y el cuarto\"\"\" \n",
        "\n",
        "#Entrada de datos\n",
        "num1=int(input(\"ingrese el primer valor: \"))\n",
        "num2=int(input(\"ingrese el segundo valor: \"))\n",
        "suma=num1+num2\n",
        "num3=int(input(\"ingrese el tercer valor: \"))\n",
        "num4=int(input(\"ingrese el cuarto valor: \"))\n",
        "\n",
        "#Operaciones\n",
        "suma=(num1+num2)\n",
        "producto=(num3*num4)\n",
        "\n",
        "#Salida de datos\n",
        "print(f\"la suma de {num1} + {num2} es igual a {suma}\")\n",
        "print(f\"el producto de {num3} * {num4} es igual a {producto}\")\n"
      ],
      "metadata": {
        "colab": {
          "base_uri": "https://localhost:8080/"
        },
        "id": "WfY96-zBcCdT",
        "outputId": "e8ac6475-edd2-4108-b05e-3a1074a20a0d"
      },
      "execution_count": null,
      "outputs": [
        {
          "output_type": "stream",
          "name": "stdout",
          "text": [
            "ingrese el primer valor: 12\n",
            "ingrese el segundo valor: 13\n",
            "ingrese el tercer valor: 14\n",
            "ingrese el cuarto valor: 15\n",
            "la suma de 12 + 13 es igual a 25\n",
            "el producto de 14 * 15 es igual a 210\n"
          ]
        }
      ]
    },
    {
      "cell_type": "code",
      "source": [
        "\"\"\"realiza la carga de cuatro nombres de personas distintos.\n",
        " Mostrar por pantalla luego ordenarlos en forma alfabetica.\"\"\"\n",
        "\n",
        "#Ciclo FOR\n",
        "#Entrada de datos\n",
        "entr_nom = ['David','William','Mariana','Angela']\n",
        "\n",
        "#Operaciones \n",
        "nom_list = entr_nom\n",
        "print(\"imprimir los nombres ingresados: \")\n",
        "for nombre in nom_list:\n",
        "  print('Desordenados: ',nombre)\n",
        "\n",
        "entr_nom.sort()\n",
        "\n",
        "#Salida de datos\n",
        "print('**************')\n",
        "print('imprimir los nombres ordenados descendente: ') \n",
        "for nombre2 in entr_nom:\n",
        "  print('ordenados',nombre2)\n",
        "\n",
        "entr_nom.sort(reverse=True)\n",
        "\n",
        "print('**************')\n",
        "print('imprimir los nombres ordenados ascendente: ')\n",
        "for nombre2 in entr_nom:\n",
        "  print('ordenados',nombre2)\n",
        "\n",
        "#entr_nom.sort(reverse=True)      "
      ],
      "metadata": {
        "colab": {
          "base_uri": "https://localhost:8080/"
        },
        "id": "oDouZ8_Qr4zd",
        "outputId": "b53c51f6-65bb-4cac-cb8a-23f1c877eb1d"
      },
      "execution_count": null,
      "outputs": [
        {
          "output_type": "stream",
          "name": "stdout",
          "text": [
            "imprimir los nombres ingresados: \n",
            "Desordenados:  David\n",
            "Desordenados:  William\n",
            "Desordenados:  Mariana\n",
            "Desordenados:  Angela\n",
            "**************\n",
            "imprimir los nombres ordenados descendente: \n",
            "ordenados Angela\n",
            "ordenados David\n",
            "ordenados Mariana\n",
            "ordenados William\n",
            "**************\n",
            "imprimir los nombres ordenados ascendente: \n",
            "ordenados William\n",
            "ordenados Mariana\n",
            "ordenados David\n",
            "ordenados Angela\n"
          ]
        }
      ]
    },
    {
      "cell_type": "code",
      "source": [
        "\"\"\"realiza la carga de los mombres por teclado. \n",
        "mostrar cual de los dos es mayor alfabeticamente o si son iguales.\"\"\"\n",
        "\n",
        "nombre1=input(\"Ingrese el primer nombre:\")\n",
        "nombre2=input(\"Ingrese el segundo nombre:\")\n",
        "if nombre1==nombre2:\n",
        "    print(\"Ingreso dos nombre iguales\")\n",
        "else:\n",
        "    if nombre1>nombre2:\n",
        "        print(nombre1)\n",
        "        print(\"es mayor alfabeticamente\")\n",
        "    else:\n",
        "        print(nombre2)\n",
        "        print(\"es mayor alfabeticamente\")\n"
      ],
      "metadata": {
        "colab": {
          "base_uri": "https://localhost:8080/"
        },
        "id": "DnnYNOQTlnOk",
        "outputId": "bd43dcd2-adc8-4174-bf82-7a707cbe022d"
      },
      "execution_count": null,
      "outputs": [
        {
          "output_type": "stream",
          "name": "stdout",
          "text": [
            "Ingrese el primer nombre:yessica\n",
            "Ingrese el segundo nombre:yessica\n",
            "Ingreso dos nombre iguales\n"
          ]
        }
      ]
    },
    {
      "cell_type": "code",
      "source": [
        "\"\"\"Realiza la carga por teclado del nombre, edad y altura de dos personas.\n",
        "mostrar en pantalla el nombre de la persona con mayor altura\"\"\"\n",
        "\n",
        "print(\"Datos de la primer persona\")\n",
        "nombre1=input(\"Ingrese nombre:\")\n",
        "edad1=int(input(\"Ingrese la edad:\"))\n",
        "altura1=float(input(\"Ingrese la altura :\"))\n",
        "print(\"Datos de la segunda persona\")\n",
        "nombre2=input(\"Ingrese nombre:\")\n",
        "edad2=int(input(\"Ingrese la edad:\"))\n",
        "altura2=float(input(\"Ingrese la altura :\"))\n",
        "print(\"La persona mas alta es:\")\n",
        "if altura1>altura2:\n",
        "    print(nombre1)\n",
        "else:\n",
        "    print(nombre2)"
      ],
      "metadata": {
        "colab": {
          "base_uri": "https://localhost:8080/"
        },
        "id": "pOMdvKNBlyKM",
        "outputId": "12afca9a-a458-4a28-a13c-1722f853b398"
      },
      "execution_count": null,
      "outputs": [
        {
          "output_type": "stream",
          "name": "stdout",
          "text": [
            "Datos de la primer persona\n",
            "Ingrese nombre:rea\n",
            "Ingrese la edad:12\n",
            "Ingrese la altura :12.5\n",
            "Datos de la segunda persona\n",
            "Ingrese nombre:asd\n",
            "Ingrese la edad:14\n",
            "Ingrese la altura :13.5\n",
            "La persona mas alta es:\n",
            "asd\n"
          ]
        }
      ]
    },
    {
      "cell_type": "code",
      "source": [
        "nombre1=str(input(\"ingrese el primer nombre: \"))\n",
        "nombre2=str(input(\"ingrese el segundo nombre: \"))\n",
        "nombre3=str(input(\"ingrese el tercer nombre: \"))\n",
        "nombre4=str(input(\"ingrese el cuarto nombre: \"))\n",
        "nombre5=str(input(\"ingrese el quinto nombre: \"))\n",
        "nombre6=str(input(\"ingrese el sexto nombre: \"))\n",
        "\n",
        "nombre = [nombre1, nombre2, nombre3, nombre4, nombre5, nombre6]\n",
        "\n",
        "#Operaciones \n",
        "nom_lista = nombre\n",
        "print(\"imprimir los nombres ingresados: \")\n",
        "for nombre in nombre:\n",
        "  print('Desordenados: ',nombre)\n",
        "\n",
        "nom_lista.sort()\n",
        "\n",
        "#Salida de datos\n",
        "print('**************')\n",
        "print('imprimir los nombres ordenados descendente: ') \n",
        "for nombrea in nom_lista:\n",
        "  print('ordenados',nombrea)\n",
        "\n",
        "nom_lista.sort(reverse=True)\n",
        "\n",
        "print('**************')\n",
        "print('imprimir los nombres ordenados ascendente: ')\n",
        "for nombrea in nom_lista:\n",
        "  print('ordenados',nombrea)"
      ],
      "metadata": {
        "id": "p1xQSu4JJ1H0",
        "colab": {
          "base_uri": "https://localhost:8080/"
        },
        "outputId": "c8bdd49d-ce70-4a6b-8307-10b6ab2e7ffe"
      },
      "execution_count": null,
      "outputs": [
        {
          "output_type": "stream",
          "name": "stdout",
          "text": [
            "ingrese el primer nombre: yessica\n",
            "ingrese el segundo nombre: paola\n",
            "ingrese el tercer nombre: emmanuel\n",
            "ingrese el cuarto nombre: mateo\n",
            "ingrese el quinto nombre: lina\n",
            "ingrese el sexto nombre: cristian\n",
            "imprimir los nombres ingresados: \n",
            "Desordenados:  yessica\n",
            "Desordenados:  paola\n",
            "Desordenados:  emmanuel\n",
            "Desordenados:  mateo\n",
            "Desordenados:  lina\n",
            "Desordenados:  cristian\n",
            "**************\n",
            "imprimir los nombres ordenados descendente: \n",
            "ordenados cristian\n",
            "ordenados emmanuel\n",
            "ordenados lina\n",
            "ordenados mateo\n",
            "ordenados paola\n",
            "ordenados yessica\n",
            "**************\n",
            "imprimir los nombres ordenados ascendente: \n",
            "ordenados yessica\n",
            "ordenados paola\n",
            "ordenados mateo\n",
            "ordenados lina\n",
            "ordenados emmanuel\n",
            "ordenados cristian\n"
          ]
        }
      ]
    }
  ]
}